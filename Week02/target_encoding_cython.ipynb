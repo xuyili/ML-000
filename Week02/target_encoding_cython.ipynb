{
 "cells": [
  {
   "cell_type": "code",
   "execution_count": 1,
   "metadata": {},
   "outputs": [],
   "source": [
    "%load_ext cython"
   ]
  },
  {
   "cell_type": "code",
   "execution_count": 2,
   "metadata": {},
   "outputs": [],
   "source": [
    "import numpy as np\n",
    "import pandas as pd\n",
    "ysample = np.random.randint(2, size=(5000, 1))\n",
    "xsample = np.random.randint(10, size=(5000, 1))\n",
    "sampledata = pd.DataFrame(np.concatenate([ysample, xsample], axis=1), columns=['y', 'x'])"
   ]
  },
  {
   "cell_type": "code",
   "execution_count": 3,
   "metadata": {},
   "outputs": [],
   "source": [
    "def compare_time(current, reference, name):\n",
    "    ratio = reference/current\n",
    "    if ratio > 1:\n",
    "        word = \"faster\"\n",
    "    else:\n",
    "        ratio = 1 / ratio \n",
    "        word = \"slower\"\n",
    "        \n",
    "    print(\"We are\", \"{0:.1f}\".format(ratio), \"times\", word, \"than the\", name, \"version.\")\n",
    "\n",
    "def print_report(computefunc):\n",
    "#     assert np.all(computefunc(sampledata, 'y', 'x') == py_result)\n",
    "    timeit_result = %timeit -o computefunc(sampledata, 'y', 'x')\n",
    "    run_time = sum(timeit_result.all_runs) / timeit_result.repeat / timeit_result.loops\n",
    "    compare_time(run_time, py_time, \"pure Python\")"
   ]
  },
  {
   "cell_type": "code",
   "execution_count": 4,
   "metadata": {},
   "outputs": [],
   "source": [
    "def py_example(data, y_name, x_name):\n",
    "    result = np.zeros(data.shape[0])\n",
    "    value_dict = dict()\n",
    "    count_dict = dict()\n",
    "    n = data.shape[0]\n",
    "    for i in range(n):\n",
    "      Xname, Yname = data.loc[i, x_name], data.loc[i, y_name]\n",
    "      if Xname not in value_dict.keys():\n",
    "          value_dict[Xname] = Yname\n",
    "          count_dict[Xname] = 1\n",
    "      else:\n",
    "          value_dict[Xname] += Yname\n",
    "          count_dict[Xname] += 1\n",
    "    for i in range(n):\n",
    "        result[i] = (value_dict[data.loc[i, x_name]] - data.loc[i, y_name]) / (count_dict[data.loc[i, x_name]] - 1)\n",
    "    return result"
   ]
  },
  {
   "cell_type": "code",
   "execution_count": 5,
   "metadata": {},
   "outputs": [
    {
     "data": {
      "text/plain": [
       "array([0.47735849, 0.50912779, 0.48966942, ..., 0.48440748, 0.46857143,\n",
       "       0.4754717 ])"
      ]
     },
     "execution_count": 5,
     "metadata": {},
     "output_type": "execute_result"
    }
   ],
   "source": [
    "py_result = py_example(sampledata, 'y', 'x')\n",
    "py_result"
   ]
  },
  {
   "cell_type": "code",
   "execution_count": 6,
   "metadata": {},
   "outputs": [
    {
     "name": "stdout",
     "output_type": "stream",
     "text": [
      "260 ms ± 40.9 ms per loop (mean ± std. dev. of 7 runs, 1 loop each)\n"
     ]
    }
   ],
   "source": [
    "timeit_result = %timeit -o py_example(sampledata, 'y', 'x')\n",
    "py_time = sum(timeit_result.all_runs) / timeit_result.repeat / timeit_result.loops"
   ]
  },
  {
   "cell_type": "code",
   "execution_count": 7,
   "metadata": {},
   "outputs": [
    {
     "data": {
      "text/plain": [
       "0.2600455142857153"
      ]
     },
     "execution_count": 7,
     "metadata": {},
     "output_type": "execute_result"
    }
   ],
   "source": [
    "py_time"
   ]
  }
 ],
 "metadata": {
  "kernelspec": {
   "display_name": "Python 3",
   "language": "python",
   "name": "python3"
  },
  "language_info": {
   "codemirror_mode": {
    "name": "ipython",
    "version": 3
   },
   "file_extension": ".py",
   "mimetype": "text/x-python",
   "name": "python",
   "nbconvert_exporter": "python",
   "pygments_lexer": "ipython3",
   "version": "3.8.5"
  }
 },
 "nbformat": 4,
 "nbformat_minor": 4
}
